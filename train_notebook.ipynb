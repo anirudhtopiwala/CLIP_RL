{
  "cells": [
    {
      "cell_type": "markdown",
      "metadata": {
        "id": "view-in-github",
        "colab_type": "text"
      },
      "source": [
        "<a href=\"https://colab.research.google.com/github/anirudhtopiwala/CLIP_RL/blob/main/train_notebook.ipynb\" target=\"_parent\"><img src=\"https://colab.research.google.com/assets/colab-badge.svg\" alt=\"Open In Colab\"/></a>"
      ]
    },
    {
      "cell_type": "code",
      "source": [
        "!git clone https://github.com/anirudhtopiwala/CLIP_RL.git\n",
        "%cd CLIP_RL"
      ],
      "metadata": {
        "id": "KD4xr2woolNW",
        "outputId": "6a113feb-787d-4560-f0aa-8a5eec5f2e16",
        "colab": {
          "base_uri": "https://localhost:8080/"
        }
      },
      "id": "KD4xr2woolNW",
      "execution_count": 1,
      "outputs": [
        {
          "output_type": "stream",
          "name": "stdout",
          "text": [
            "fatal: destination path 'CLIP_RL' already exists and is not an empty directory.\n",
            "/content/CLIP_RL\n"
          ]
        }
      ]
    },
    {
      "cell_type": "code",
      "source": [
        "%pwd\n",
        "\n"
      ],
      "metadata": {
        "id": "w2QAYNA5ro3m",
        "outputId": "17176c87-79d0-4677-8e6b-3c716fe991de",
        "colab": {
          "base_uri": "https://localhost:8080/",
          "height": 35
        }
      },
      "id": "w2QAYNA5ro3m",
      "execution_count": 2,
      "outputs": [
        {
          "output_type": "execute_result",
          "data": {
            "text/plain": [
              "'/content/CLIP_RL'"
            ],
            "application/vnd.google.colaboratory.intrinsic+json": {
              "type": "string"
            }
          },
          "metadata": {},
          "execution_count": 2
        }
      ]
    },
    {
      "cell_type": "code",
      "source": [
        "!cat requirements.txt"
      ],
      "metadata": {
        "id": "EZaAynTlpWRm",
        "outputId": "227ffb9d-f912-4af8-dc3f-ee23a5be6daf",
        "colab": {
          "base_uri": "https://localhost:8080/"
        }
      },
      "id": "EZaAynTlpWRm",
      "execution_count": 3,
      "outputs": [
        {
          "output_type": "stream",
          "name": "stdout",
          "text": [
            "# Core libraries\n",
            "torch\n",
            "robosuite\n",
            "mujoco\n",
            "mujoco-py\n",
            "git+https://github.com/openai/CLIP.git\n",
            "opencv-python\n",
            "Pillow\n",
            "numpy\n",
            "tensorboard\n",
            "\n",
            "# Required for mujoco viewer even in headless mode (e.g., IK solvers)\n",
            "glfw\n",
            "\n",
            "# Optional: avoid import errors from robosuite logging\n",
            "absl-py"
          ]
        }
      ]
    },
    {
      "cell_type": "markdown",
      "source": [],
      "metadata": {
        "id": "SGwRMlbw5cvc"
      },
      "id": "SGwRMlbw5cvc"
    },
    {
      "cell_type": "code",
      "source": [
        "!pip install -r requirements.txt"
      ],
      "metadata": {
        "id": "iJvW3jf9pDba",
        "outputId": "d4f54973-0385-485a-af13-0e7031c1b324",
        "colab": {
          "base_uri": "https://localhost:8080/"
        }
      },
      "id": "iJvW3jf9pDba",
      "execution_count": 4,
      "outputs": [
        {
          "output_type": "stream",
          "name": "stdout",
          "text": [
            "Collecting git+https://github.com/openai/CLIP.git (from -r requirements.txt (line 6))\n",
            "  Cloning https://github.com/openai/CLIP.git to /tmp/pip-req-build-vt5a54w6\n",
            "  Running command git clone --filter=blob:none --quiet https://github.com/openai/CLIP.git /tmp/pip-req-build-vt5a54w6\n",
            "  Resolved https://github.com/openai/CLIP.git to commit dcba3cb2e2827b402d2701e7e1c7d9fed8a20ef1\n",
            "  Preparing metadata (setup.py) ... \u001b[?25l\u001b[?25hdone\n",
            "Requirement already satisfied: torch in /usr/local/lib/python3.11/dist-packages (from -r requirements.txt (line 2)) (2.6.0+cu124)\n",
            "Requirement already satisfied: robosuite in /usr/local/lib/python3.11/dist-packages (from -r requirements.txt (line 3)) (1.5.1)\n",
            "Requirement already satisfied: mujoco in /usr/local/lib/python3.11/dist-packages (from -r requirements.txt (line 4)) (3.3.2)\n",
            "Requirement already satisfied: mujoco-py in /usr/local/lib/python3.11/dist-packages (from -r requirements.txt (line 5)) (2.1.2.14)\n",
            "Requirement already satisfied: opencv-python in /usr/local/lib/python3.11/dist-packages (from -r requirements.txt (line 7)) (4.11.0.86)\n",
            "Requirement already satisfied: Pillow in /usr/local/lib/python3.11/dist-packages (from -r requirements.txt (line 8)) (11.2.1)\n",
            "Requirement already satisfied: numpy in /usr/local/lib/python3.11/dist-packages (from -r requirements.txt (line 9)) (2.0.2)\n",
            "Requirement already satisfied: tensorboard in /usr/local/lib/python3.11/dist-packages (from -r requirements.txt (line 10)) (2.18.0)\n",
            "Requirement already satisfied: glfw in /usr/local/lib/python3.11/dist-packages (from -r requirements.txt (line 13)) (2.9.0)\n",
            "Requirement already satisfied: absl-py in /usr/local/lib/python3.11/dist-packages (from -r requirements.txt (line 16)) (1.4.0)\n",
            "Requirement already satisfied: filelock in /usr/local/lib/python3.11/dist-packages (from torch->-r requirements.txt (line 2)) (3.18.0)\n",
            "Requirement already satisfied: typing-extensions>=4.10.0 in /usr/local/lib/python3.11/dist-packages (from torch->-r requirements.txt (line 2)) (4.13.2)\n",
            "Requirement already satisfied: networkx in /usr/local/lib/python3.11/dist-packages (from torch->-r requirements.txt (line 2)) (3.4.2)\n",
            "Requirement already satisfied: jinja2 in /usr/local/lib/python3.11/dist-packages (from torch->-r requirements.txt (line 2)) (3.1.6)\n",
            "Requirement already satisfied: fsspec in /usr/local/lib/python3.11/dist-packages (from torch->-r requirements.txt (line 2)) (2025.3.2)\n",
            "Requirement already satisfied: nvidia-cuda-nvrtc-cu12==12.4.127 in /usr/local/lib/python3.11/dist-packages (from torch->-r requirements.txt (line 2)) (12.4.127)\n",
            "Requirement already satisfied: nvidia-cuda-runtime-cu12==12.4.127 in /usr/local/lib/python3.11/dist-packages (from torch->-r requirements.txt (line 2)) (12.4.127)\n",
            "Requirement already satisfied: nvidia-cuda-cupti-cu12==12.4.127 in /usr/local/lib/python3.11/dist-packages (from torch->-r requirements.txt (line 2)) (12.4.127)\n",
            "Requirement already satisfied: nvidia-cudnn-cu12==9.1.0.70 in /usr/local/lib/python3.11/dist-packages (from torch->-r requirements.txt (line 2)) (9.1.0.70)\n",
            "Requirement already satisfied: nvidia-cublas-cu12==12.4.5.8 in /usr/local/lib/python3.11/dist-packages (from torch->-r requirements.txt (line 2)) (12.4.5.8)\n",
            "Requirement already satisfied: nvidia-cufft-cu12==11.2.1.3 in /usr/local/lib/python3.11/dist-packages (from torch->-r requirements.txt (line 2)) (11.2.1.3)\n",
            "Requirement already satisfied: nvidia-curand-cu12==10.3.5.147 in /usr/local/lib/python3.11/dist-packages (from torch->-r requirements.txt (line 2)) (10.3.5.147)\n",
            "Requirement already satisfied: nvidia-cusolver-cu12==11.6.1.9 in /usr/local/lib/python3.11/dist-packages (from torch->-r requirements.txt (line 2)) (11.6.1.9)\n",
            "Requirement already satisfied: nvidia-cusparse-cu12==12.3.1.170 in /usr/local/lib/python3.11/dist-packages (from torch->-r requirements.txt (line 2)) (12.3.1.170)\n",
            "Requirement already satisfied: nvidia-cusparselt-cu12==0.6.2 in /usr/local/lib/python3.11/dist-packages (from torch->-r requirements.txt (line 2)) (0.6.2)\n",
            "Requirement already satisfied: nvidia-nccl-cu12==2.21.5 in /usr/local/lib/python3.11/dist-packages (from torch->-r requirements.txt (line 2)) (2.21.5)\n",
            "Requirement already satisfied: nvidia-nvtx-cu12==12.4.127 in /usr/local/lib/python3.11/dist-packages (from torch->-r requirements.txt (line 2)) (12.4.127)\n",
            "Requirement already satisfied: nvidia-nvjitlink-cu12==12.4.127 in /usr/local/lib/python3.11/dist-packages (from torch->-r requirements.txt (line 2)) (12.4.127)\n",
            "Requirement already satisfied: triton==3.2.0 in /usr/local/lib/python3.11/dist-packages (from torch->-r requirements.txt (line 2)) (3.2.0)\n",
            "Requirement already satisfied: sympy==1.13.1 in /usr/local/lib/python3.11/dist-packages (from torch->-r requirements.txt (line 2)) (1.13.1)\n",
            "Requirement already satisfied: mpmath<1.4,>=1.1.0 in /usr/local/lib/python3.11/dist-packages (from sympy==1.13.1->torch->-r requirements.txt (line 2)) (1.3.0)\n",
            "Requirement already satisfied: numba>=0.49.1 in /usr/local/lib/python3.11/dist-packages (from robosuite->-r requirements.txt (line 3)) (0.60.0)\n",
            "Requirement already satisfied: scipy>=1.2.3 in /usr/local/lib/python3.11/dist-packages (from robosuite->-r requirements.txt (line 3)) (1.15.3)\n",
            "Requirement already satisfied: mink>=0.0.5 in /usr/local/lib/python3.11/dist-packages (from robosuite->-r requirements.txt (line 3)) (0.0.11)\n",
            "Requirement already satisfied: pynput in /usr/local/lib/python3.11/dist-packages (from robosuite->-r requirements.txt (line 3)) (1.8.1)\n",
            "Requirement already satisfied: termcolor in /usr/local/lib/python3.11/dist-packages (from robosuite->-r requirements.txt (line 3)) (3.1.0)\n",
            "Requirement already satisfied: pytest in /usr/local/lib/python3.11/dist-packages (from robosuite->-r requirements.txt (line 3)) (8.3.5)\n",
            "Requirement already satisfied: tqdm in /usr/local/lib/python3.11/dist-packages (from robosuite->-r requirements.txt (line 3)) (4.67.1)\n",
            "Requirement already satisfied: etils[epath] in /usr/local/lib/python3.11/dist-packages (from mujoco->-r requirements.txt (line 4)) (1.12.2)\n",
            "Requirement already satisfied: pyopengl in /usr/local/lib/python3.11/dist-packages (from mujoco->-r requirements.txt (line 4)) (3.1.9)\n",
            "Requirement already satisfied: Cython>=0.27.2 in /usr/local/lib/python3.11/dist-packages (from mujoco-py->-r requirements.txt (line 5)) (3.0.12)\n",
            "Requirement already satisfied: imageio>=2.1.2 in /usr/local/lib/python3.11/dist-packages (from mujoco-py->-r requirements.txt (line 5)) (2.37.0)\n",
            "Requirement already satisfied: cffi>=1.10 in /usr/local/lib/python3.11/dist-packages (from mujoco-py->-r requirements.txt (line 5)) (1.17.1)\n",
            "Requirement already satisfied: fasteners~=0.15 in /usr/local/lib/python3.11/dist-packages (from mujoco-py->-r requirements.txt (line 5)) (0.19)\n",
            "Requirement already satisfied: ftfy in /usr/local/lib/python3.11/dist-packages (from clip==1.0->-r requirements.txt (line 6)) (6.3.1)\n",
            "Requirement already satisfied: packaging in /usr/local/lib/python3.11/dist-packages (from clip==1.0->-r requirements.txt (line 6)) (24.2)\n",
            "Requirement already satisfied: regex in /usr/local/lib/python3.11/dist-packages (from clip==1.0->-r requirements.txt (line 6)) (2024.11.6)\n",
            "Requirement already satisfied: torchvision in /usr/local/lib/python3.11/dist-packages (from clip==1.0->-r requirements.txt (line 6)) (0.21.0+cu124)\n",
            "Requirement already satisfied: grpcio>=1.48.2 in /usr/local/lib/python3.11/dist-packages (from tensorboard->-r requirements.txt (line 10)) (1.71.0)\n",
            "Requirement already satisfied: markdown>=2.6.8 in /usr/local/lib/python3.11/dist-packages (from tensorboard->-r requirements.txt (line 10)) (3.8)\n",
            "Requirement already satisfied: protobuf!=4.24.0,>=3.19.6 in /usr/local/lib/python3.11/dist-packages (from tensorboard->-r requirements.txt (line 10)) (5.29.4)\n",
            "Requirement already satisfied: setuptools>=41.0.0 in /usr/local/lib/python3.11/dist-packages (from tensorboard->-r requirements.txt (line 10)) (75.2.0)\n",
            "Requirement already satisfied: six>1.9 in /usr/local/lib/python3.11/dist-packages (from tensorboard->-r requirements.txt (line 10)) (1.17.0)\n",
            "Requirement already satisfied: tensorboard-data-server<0.8.0,>=0.7.0 in /usr/local/lib/python3.11/dist-packages (from tensorboard->-r requirements.txt (line 10)) (0.7.2)\n",
            "Requirement already satisfied: werkzeug>=1.0.1 in /usr/local/lib/python3.11/dist-packages (from tensorboard->-r requirements.txt (line 10)) (3.1.3)\n",
            "Requirement already satisfied: pycparser in /usr/local/lib/python3.11/dist-packages (from cffi>=1.10->mujoco-py->-r requirements.txt (line 5)) (2.22)\n",
            "Requirement already satisfied: qpsolvers>=4.3.1 in /usr/local/lib/python3.11/dist-packages (from qpsolvers[daqp]>=4.3.1->mink>=0.0.5->robosuite->-r requirements.txt (line 3)) (4.7.0)\n",
            "Requirement already satisfied: llvmlite<0.44,>=0.43.0dev0 in /usr/local/lib/python3.11/dist-packages (from numba>=0.49.1->robosuite->-r requirements.txt (line 3)) (0.43.0)\n",
            "Requirement already satisfied: MarkupSafe>=2.1.1 in /usr/local/lib/python3.11/dist-packages (from werkzeug>=1.0.1->tensorboard->-r requirements.txt (line 10)) (3.0.2)\n",
            "Requirement already satisfied: importlib_resources in /usr/local/lib/python3.11/dist-packages (from etils[epath]->mujoco->-r requirements.txt (line 4)) (6.5.2)\n",
            "Requirement already satisfied: zipp in /usr/local/lib/python3.11/dist-packages (from etils[epath]->mujoco->-r requirements.txt (line 4)) (3.21.0)\n",
            "Requirement already satisfied: wcwidth in /usr/local/lib/python3.11/dist-packages (from ftfy->clip==1.0->-r requirements.txt (line 6)) (0.2.13)\n",
            "Requirement already satisfied: evdev>=1.3 in /usr/local/lib/python3.11/dist-packages (from pynput->robosuite->-r requirements.txt (line 3)) (1.9.2)\n",
            "Requirement already satisfied: python-xlib>=0.17 in /usr/local/lib/python3.11/dist-packages (from pynput->robosuite->-r requirements.txt (line 3)) (0.33)\n",
            "Requirement already satisfied: iniconfig in /usr/local/lib/python3.11/dist-packages (from pytest->robosuite->-r requirements.txt (line 3)) (2.1.0)\n",
            "Requirement already satisfied: pluggy<2,>=1.5 in /usr/local/lib/python3.11/dist-packages (from pytest->robosuite->-r requirements.txt (line 3)) (1.5.0)\n",
            "Requirement already satisfied: daqp>=0.5.1 in /usr/local/lib/python3.11/dist-packages (from qpsolvers[daqp]>=4.3.1->mink>=0.0.5->robosuite->-r requirements.txt (line 3)) (0.7.1)\n"
          ]
        }
      ]
    },
    {
      "cell_type": "code",
      "source": [
        "# Install EGL and GLFW shared libraries\n",
        "# !apt-get update\n",
        "# !apt-get install -y libglfw3 libglfw3-dev libglew-dev libegl1 libgles2 libosmesa6-dev libgl1-mesa-glx\n"
      ],
      "metadata": {
        "id": "Se6GLrhy35oa"
      },
      "id": "Se6GLrhy35oa",
      "execution_count": 5,
      "outputs": []
    },
    {
      "cell_type": "code",
      "source": [
        "!python3 train_policy.py"
      ],
      "metadata": {
        "id": "qaRap4g0pPhH",
        "outputId": "d3ea9b4e-b999-4c7b-92a2-ea8825f6a06a",
        "colab": {
          "base_uri": "https://localhost:8080/"
        }
      },
      "id": "qaRap4g0pPhH",
      "execution_count": null,
      "outputs": [
        {
          "output_type": "stream",
          "name": "stdout",
          "text": [
            "2025-05-25 20:04:24.091057: E external/local_xla/xla/stream_executor/cuda/cuda_fft.cc:477] Unable to register cuFFT factory: Attempting to register factory for plugin cuFFT when one has already been registered\n",
            "WARNING: All log messages before absl::InitializeLog() is called are written to STDERR\n",
            "E0000 00:00:1748203464.214390   15432 cuda_dnn.cc:8310] Unable to register cuDNN factory: Attempting to register factory for plugin cuDNN when one has already been registered\n",
            "E0000 00:00:1748203464.267176   15432 cuda_blas.cc:1418] Unable to register cuBLAS factory: Attempting to register factory for plugin cuBLAS when one has already been registered\n",
            "2025-05-25 20:04:24.332817: I tensorflow/core/platform/cpu_feature_guard.cc:210] This TensorFlow binary is optimized to use available CPU instructions in performance-critical operations.\n",
            "To enable the following instructions: AVX2 AVX512F FMA, in other operations, rebuild TensorFlow with the appropriate compiler flags.\n",
            "\u001b[1m\u001b[33m[robosuite WARNING] \u001b[0mNo private macro file found! (macros.py:53)\n",
            "\u001b[1m\u001b[33m[robosuite WARNING] \u001b[0mIt is recommended to use a private macro file (macros.py:54)\n",
            "\u001b[1m\u001b[33m[robosuite WARNING] \u001b[0mTo setup, run: python /usr/local/lib/python3.11/dist-packages/robosuite/scripts/setup_macros.py (macros.py:55)\n",
            "\u001b[1m\u001b[33m[robosuite WARNING] \u001b[0mCould not import robosuite_models. Some robots may not be available. If you want to use these robots, please install robosuite_models from source (https://github.com/ARISE-Initiative/robosuite_models) or through pip install. (__init__.py:30)\n",
            "\u001b[1m\u001b[33m[robosuite WARNING] \u001b[0mCould not load the mink-based whole-body IK. Make sure you install related import properly, otherwise you will not be able to use the default IK controller setting for GR1 robot. (__init__.py:40)\n",
            "Training on device cuda\n",
            "\u001b[1m\u001b[32m[robosuite INFO] \u001b[0mLoading controller configuration from: /usr/local/lib/python3.11/dist-packages/robosuite/controllers/config/robots/default_panda.json (composite_controller_factory.py:121)\n",
            "Action Dim: 7\n",
            "Training CLIPPolicy...\n",
            "\u001b[1m\u001b[32m[robosuite INFO] \u001b[0mLoading controller configuration from: /usr/local/lib/python3.11/dist-packages/robosuite/controllers/config/robots/default_panda.json (composite_controller_factory.py:121)\n"
          ]
        }
      ]
    },
    {
      "cell_type": "code",
      "source": [],
      "metadata": {
        "id": "GeVTMVgAs81K"
      },
      "id": "GeVTMVgAs81K",
      "execution_count": null,
      "outputs": []
    }
  ],
  "metadata": {
    "language_info": {
      "name": "python"
    },
    "colab": {
      "provenance": [],
      "gpuType": "T4",
      "include_colab_link": true
    },
    "kernelspec": {
      "name": "python3",
      "display_name": "Python 3"
    },
    "accelerator": "GPU"
  },
  "nbformat": 4,
  "nbformat_minor": 5
}